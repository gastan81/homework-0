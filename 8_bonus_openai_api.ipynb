{
  "nbformat": 4,
  "nbformat_minor": 0,
  "metadata": {
    "colab": {
      "provenance": [],
      "include_colab_link": true
    },
    "kernelspec": {
      "name": "python3",
      "display_name": "Python 3"
    },
    "language_info": {
      "name": "python"
    }
  },
  "cells": [
    {
      "cell_type": "markdown",
      "metadata": {
        "id": "view-in-github",
        "colab_type": "text"
      },
      "source": [
        "<a href=\"https://colab.research.google.com/github/gastan81/homework-0/blob/master/8_bonus_openai_api.ipynb\" target=\"_parent\"><img src=\"https://colab.research.google.com/assets/colab-badge.svg\" alt=\"Open In Colab\"/></a>"
      ]
    },
    {
      "cell_type": "markdown",
      "source": [
        "# ChatGPT"
      ],
      "metadata": {
        "id": "PcxjJ_UC5Ddm"
      }
    },
    {
      "cell_type": "markdown",
      "source": [
        "Perhaps the most famous AI currently on the market, [ChatGPT](https://openai.com/chatgpt) is nonetheless limited in its interaction with the user in a data-analysis setting.\n",
        "\n",
        "We can, however, utilize the power of the [OpenAI API](https://platform.openai.com/docs/introduction) to integrate an AI assistant directly into our notebooks.\n",
        "\n",
        "> **Note:** We will be using *GPT-3.5-turbo* throughout this tutorial. Access to this model is *not free*. To get started with the OpenAI API you will need to [sign up](https://platform.openai.com/signup) and get an [API key](https://platform.openai.com/account/api-keys)."
      ],
      "metadata": {
        "id": "9N8n5GoS5DWU"
      }
    },
    {
      "cell_type": "code",
      "source": [
        "from google.colab import userdata\n",
        "API_key = userdata.get('ChatGPT')"
      ],
      "metadata": {
        "id": "yn1vIaj1nBlz"
      },
      "execution_count": null,
      "outputs": []
    },
    {
      "cell_type": "code",
      "source": [
        "API_key = 'YOUR API KEY HERE'"
      ],
      "metadata": {
        "id": "zX1FlOu3yrmu"
      },
      "execution_count": null,
      "outputs": []
    },
    {
      "cell_type": "markdown",
      "source": [
        "## Setting up"
      ],
      "metadata": {
        "id": "2YLuLx3TEjyQ"
      }
    },
    {
      "cell_type": "code",
      "source": [
        "# in Colab, run this line at the start of every session\n",
        "# working locally, installation only needs to happen once\n",
        "!pip install openai"
      ],
      "metadata": {
        "colab": {
          "base_uri": "https://localhost:8080/"
        },
        "id": "Uk60SGXCFZ2G",
        "outputId": "754787d7-2b4f-4aaf-cf42-0dd02e0ce4c7"
      },
      "execution_count": null,
      "outputs": [
        {
          "output_type": "stream",
          "name": "stdout",
          "text": [
            "Collecting openai\n",
            "  Downloading openai-1.6.1-py3-none-any.whl (225 kB)\n",
            "\u001b[2K     \u001b[90m━━━━━━━━━━━━━━━━━━━━━━━━━━━━━━━━━━━━━━━━\u001b[0m \u001b[32m225.4/225.4 kB\u001b[0m \u001b[31m3.4 MB/s\u001b[0m eta \u001b[36m0:00:00\u001b[0m\n",
            "\u001b[?25hRequirement already satisfied: anyio<5,>=3.5.0 in /usr/local/lib/python3.10/dist-packages (from openai) (3.7.1)\n",
            "Requirement already satisfied: distro<2,>=1.7.0 in /usr/lib/python3/dist-packages (from openai) (1.7.0)\n",
            "Collecting httpx<1,>=0.23.0 (from openai)\n",
            "  Downloading httpx-0.26.0-py3-none-any.whl (75 kB)\n",
            "\u001b[2K     \u001b[90m━━━━━━━━━━━━━━━━━━━━━━━━━━━━━━━━━━━━━━━━\u001b[0m \u001b[32m75.9/75.9 kB\u001b[0m \u001b[31m7.1 MB/s\u001b[0m eta \u001b[36m0:00:00\u001b[0m\n",
            "\u001b[?25hRequirement already satisfied: pydantic<3,>=1.9.0 in /usr/local/lib/python3.10/dist-packages (from openai) (1.10.13)\n",
            "Requirement already satisfied: sniffio in /usr/local/lib/python3.10/dist-packages (from openai) (1.3.0)\n",
            "Requirement already satisfied: tqdm>4 in /usr/local/lib/python3.10/dist-packages (from openai) (4.66.1)\n",
            "Collecting typing-extensions<5,>=4.7 (from openai)\n",
            "  Downloading typing_extensions-4.9.0-py3-none-any.whl (32 kB)\n",
            "Requirement already satisfied: idna>=2.8 in /usr/local/lib/python3.10/dist-packages (from anyio<5,>=3.5.0->openai) (3.6)\n",
            "Requirement already satisfied: exceptiongroup in /usr/local/lib/python3.10/dist-packages (from anyio<5,>=3.5.0->openai) (1.2.0)\n",
            "Requirement already satisfied: certifi in /usr/local/lib/python3.10/dist-packages (from httpx<1,>=0.23.0->openai) (2023.11.17)\n",
            "Collecting httpcore==1.* (from httpx<1,>=0.23.0->openai)\n",
            "  Downloading httpcore-1.0.2-py3-none-any.whl (76 kB)\n",
            "\u001b[2K     \u001b[90m━━━━━━━━━━━━━━━━━━━━━━━━━━━━━━━━━━━━━━━━\u001b[0m \u001b[32m76.9/76.9 kB\u001b[0m \u001b[31m7.6 MB/s\u001b[0m eta \u001b[36m0:00:00\u001b[0m\n",
            "\u001b[?25hCollecting h11<0.15,>=0.13 (from httpcore==1.*->httpx<1,>=0.23.0->openai)\n",
            "  Downloading h11-0.14.0-py3-none-any.whl (58 kB)\n",
            "\u001b[2K     \u001b[90m━━━━━━━━━━━━━━━━━━━━━━━━━━━━━━━━━━━━━━━━\u001b[0m \u001b[32m58.3/58.3 kB\u001b[0m \u001b[31m4.9 MB/s\u001b[0m eta \u001b[36m0:00:00\u001b[0m\n",
            "\u001b[?25hInstalling collected packages: typing-extensions, h11, httpcore, httpx, openai\n",
            "  Attempting uninstall: typing-extensions\n",
            "    Found existing installation: typing_extensions 4.5.0\n",
            "    Uninstalling typing_extensions-4.5.0:\n",
            "      Successfully uninstalled typing_extensions-4.5.0\n",
            "\u001b[31mERROR: pip's dependency resolver does not currently take into account all the packages that are installed. This behaviour is the source of the following dependency conflicts.\n",
            "llmx 0.0.15a0 requires cohere, which is not installed.\n",
            "llmx 0.0.15a0 requires tiktoken, which is not installed.\n",
            "tensorflow-probability 0.22.0 requires typing-extensions<4.6.0, but you have typing-extensions 4.9.0 which is incompatible.\u001b[0m\u001b[31m\n",
            "\u001b[0mSuccessfully installed h11-0.14.0 httpcore-1.0.2 httpx-0.26.0 openai-1.6.1 typing-extensions-4.9.0\n"
          ]
        }
      ]
    },
    {
      "cell_type": "markdown",
      "source": [
        "Here we see the basic architecture of an OpenAI API call. By adjusting the value of the `content` key in the second dictionary in `messages` (the one with the role \"user\"), we send queries - also known as prompts - to the AI."
      ],
      "metadata": {
        "id": "GaPFmg01EnBn"
      }
    },
    {
      "cell_type": "code",
      "source": [
        "from openai import OpenAI\n",
        "client = OpenAI(api_key=API_key)\n",
        "\n",
        "completion = client.chat.completions.create(\n",
        "  model=\"gpt-3.5-turbo\",\n",
        "  messages=[\n",
        "    {\"role\": \"system\", \"content\": \"You are an assistant in a data science bootcamp, capable of providing insight and guidance, and writing and debugging code.\"},\n",
        "    {\"role\": \"user\", \"content\": \"What are the essential libraries to install for a data analysis project?\"}\n",
        "  ]\n",
        ")"
      ],
      "metadata": {
        "id": "58fKe-euEoUE"
      },
      "execution_count": null,
      "outputs": []
    },
    {
      "cell_type": "markdown",
      "source": [
        "Responses will be stored within the `completion` object:"
      ],
      "metadata": {
        "id": "Q3ehzgutIT9c"
      }
    },
    {
      "cell_type": "code",
      "source": [
        "print(completion.choices[0].message.content)"
      ],
      "metadata": {
        "colab": {
          "base_uri": "https://localhost:8080/"
        },
        "id": "9-etzKtmIlrN",
        "outputId": "85e4fb76-0630-41df-ec3f-7b50057ea59e"
      },
      "execution_count": null,
      "outputs": [
        {
          "output_type": "stream",
          "name": "stdout",
          "text": [
            "There are several essential libraries that you should install for a data analysis project in Python. Some of the commonly used ones include:\n",
            "\n",
            "1. Numpy: Used for numerical computations and handling arrays and matrices efficiently.\n",
            "```\n",
            "pip install numpy\n",
            "```\n",
            "\n",
            "2. Pandas: Used for data manipulation, cleaning, and analysis, providing data structures like DataFrame.\n",
            "```\n",
            "pip install pandas\n",
            "```\n",
            "\n",
            "3. Matplotlib: A powerful plotting library for creating visualizations like line plots, scatter plots, histograms, etc.\n",
            "```\n",
            "pip install matplotlib\n",
            "```\n",
            "\n",
            "4. Seaborn: Built on top of Matplotlib, it provides a high-level interface for creating attractive statistical graphics.\n",
            "```\n",
            "pip install seaborn\n",
            "```\n",
            "\n",
            "5. Scikit-learn: A versatile machine learning library that provides various algorithms for classification, regression, clustering, etc.\n",
            "```\n",
            "pip install scikit-learn\n",
            "```\n",
            "\n",
            "6. SciPy: A library that provides scientific and numerical computing functions, including optimization, integration, linear algebra, etc.\n",
            "```\n",
            "pip install scipy\n",
            "```\n",
            "\n",
            "7. Statsmodels: Used for statistical modeling and hypothesis testing.\n",
            "```\n",
            "pip install statsmodels\n",
            "```\n",
            "\n",
            "8. Jupyter notebook: An interactive coding environment for data analysis, where you can document and run code together.\n",
            "```\n",
            "pip install jupyter\n",
            "```\n",
            "\n",
            "These libraries form the backbone of data analysis in Python, but depending on your specific project requirements, you might need to install additional libraries.\n"
          ]
        }
      ]
    },
    {
      "cell_type": "markdown",
      "source": [
        "Rather than modifying one block of code repeatedly, we can instead place our API call in a function:"
      ],
      "metadata": {
        "id": "Iv1Bva8uI0UV"
      }
    },
    {
      "cell_type": "code",
      "source": [
        "from openai import OpenAI\n",
        "client = OpenAI(api_key=API_key)\n",
        "def ask_AI(prompt):\n",
        "    completion = client.chat.completions.create(\n",
        "    model=\"gpt-3.5-turbo\",\n",
        "    messages=[\n",
        "        {\"role\": \"system\", \"content\": \"You are an assistant in a data science bootcamp, capable of providing insight and guidance, and writing and debugging code.\"},\n",
        "        {\"role\": \"user\", \"content\": prompt}\n",
        "    ]\n",
        "    )\n",
        "    print(completion.choices[0].message.content)"
      ],
      "metadata": {
        "id": "hLYhmAvQI-t5"
      },
      "execution_count": null,
      "outputs": []
    },
    {
      "cell_type": "code",
      "source": [
        "ask_AI(\"What are the essential libraries to install for a data analysis project?\")"
      ],
      "metadata": {
        "colab": {
          "base_uri": "https://localhost:8080/"
        },
        "id": "hGC4QzB8J1Pl",
        "outputId": "9195ce09-ef11-4250-952a-06c0868ed537"
      },
      "execution_count": null,
      "outputs": [
        {
          "output_type": "stream",
          "name": "stdout",
          "text": [
            "There are several essential libraries to install for a data analysis project in Python. Some of the most commonly used libraries are:\n",
            "\n",
            "1. NumPy: A library for scientific computing in Python. It provides support for large, multi-dimensional arrays and matrices, along with a large collection of mathematical functions.\n",
            "\n",
            "2. Pandas: A library for data manipulation and analysis. It provides data structures such as Series (1-dimensional array) and DataFrame (2-dimensional table), which are very useful for working with structured data.\n",
            "\n",
            "3. Matplotlib: A plotting library for creating 2D and simple 3D plots. It provides a wide variety of functions to visualize data in different formats such as line plots, scatter plots, histograms, etc.\n",
            "\n",
            "4. Seaborn: A higher-level interface to matplotlib. It provides a more aesthetic and easy-to-use visualization style compared to Matplotlib, especially for statistical data visualization.\n",
            "\n",
            "5. Scikit-learn: A machine learning library for building predictive models. It provides a wide range of machine learning algorithms for classification, regression, clustering, and dimensionality reduction, along with utilities for model evaluation and preprocessing.\n",
            "\n",
            "6. SciPy: A library for scientific and technical computing. It provides functions for numerical integration, interpolation, optimization, and many other mathematical operations.\n",
            "\n",
            "7. Statsmodels: A statistical modeling library. It provides classes and functions for estimating statistical models, conducting statistical tests, and exploring statistical data.\n",
            "\n",
            "These libraries form the core of most data analysis projects in Python. Depending on your specific needs, you may also need to install additional libraries for tasks such as natural language processing (NLTK), deep learning (TensorFlow, Keras, PyTorch), and more.\n"
          ]
        }
      ]
    },
    {
      "cell_type": "markdown",
      "source": [
        "We may wish to keep up a conversation with our AI, in which case we modify our code to keep track of prompts and responses. In this way, the AI will review the conversation history each time a new query is posed, giving more context to inform its answers."
      ],
      "metadata": {
        "id": "Qcl0BcOSMHN9"
      }
    },
    {
      "cell_type": "code",
      "source": [
        "from openai import OpenAI\n",
        "client = OpenAI(api_key=API_key)\n",
        "messages = []\n",
        "def chat_AI(prompt):\n",
        "    global messages # this sets the scope of messages to global, so we can make changes to the list without explictly passing the list to our function each call\n",
        "    if len(messages) == 0:\n",
        "        messages = [{\"role\": \"system\",\n",
        "                    \"content\": \"You are an assistant in a data science bootcamp, capable of providing insight and guidance, and writing and debugging code.\"},\n",
        "                    ]\n",
        "    messages.append({\"role\": \"user\",\n",
        "                    \"content\": prompt}\n",
        "                    )\n",
        "    completion = client.chat.completions.create(\n",
        "                    model=\"gpt-3.5-turbo\",\n",
        "                    messages=messages\n",
        "                    )\n",
        "    reply = completion.choices[0].message.content\n",
        "    messages.append({\"role\": \"assistant\",\n",
        "                     \"content\": reply}\n",
        "                    )\n",
        "    print(reply)\n",
        "\n",
        "# to restart the conversation we clear the messages\n",
        "def clear_chat():\n",
        "    global messages\n",
        "    messages.clear()"
      ],
      "metadata": {
        "id": "WAJqTXZcMb14"
      },
      "execution_count": null,
      "outputs": []
    },
    {
      "cell_type": "markdown",
      "source": [
        "## Prompts"
      ],
      "metadata": {
        "id": "Fycy4aZUwOIv"
      }
    },
    {
      "cell_type": "markdown",
      "source": [
        "Let's find some uses for our AI tool. We'll start by loading the data from our project."
      ],
      "metadata": {
        "id": "6VK5hB2awYl4"
      }
    },
    {
      "cell_type": "code",
      "source": [
        "import pandas as pd\n",
        "# orders.csv\n",
        "url = \"https://drive.google.com/file/d/1Vu0q91qZw6lqhIqbjoXYvYAQTmVHh6uZ/view?usp=sharing\"\n",
        "path = \"https://drive.google.com/uc?export=download&id=\"+url.split(\"/\")[-2]\n",
        "orders = pd.read_csv(path)\n",
        "\n",
        "# orderlines.csv\n",
        "url = \"https://drive.google.com/file/d/1FYhN_2AzTBFuWcfHaRuKcuCE6CWXsWtG/view?usp=sharing\"\n",
        "path = \"https://drive.google.com/uc?export=download&id=\"+url.split(\"/\")[-2]\n",
        "orderlines = pd.read_csv(path)\n",
        "\n",
        "# products.csv\n",
        "url = \"https://drive.google.com/file/d/1afxwDXfl-7cQ_qLwyDitfcCx3u7WMvkU/view?usp=sharing\"\n",
        "path = \"https://drive.google.com/uc?export=download&id=\"+url.split(\"/\")[-2]\n",
        "products = pd.read_csv(path)\n",
        "\n",
        "# brands.csv\n",
        "url = \"https://drive.google.com/file/d/1m1ThDDIYRTTii-rqM5SEQjJ8McidJskD/view?usp=sharing\"\n",
        "path = \"https://drive.google.com/uc?export=download&id=\"+url.split(\"/\")[-2]\n",
        "brands = pd.read_csv(path)"
      ],
      "metadata": {
        "id": "lWNo16gcw6g2"
      },
      "execution_count": null,
      "outputs": []
    },
    {
      "cell_type": "code",
      "source": [
        "# We'll clear the chat of any previous prompts first\n",
        "clear_chat()"
      ],
      "metadata": {
        "id": "uDJg5dUR04ZE"
      },
      "execution_count": null,
      "outputs": []
    },
    {
      "cell_type": "code",
      "source": [
        "# Here we see how to convert one column of our dataframe to a string\n",
        "# For these API calls, we need to pass strings for the AI to read our data\n",
        "str(orderlines[\"unit_price\"].values)"
      ],
      "metadata": {
        "colab": {
          "base_uri": "https://localhost:8080/",
          "height": 36
        },
        "id": "2NZVsKgXzMy3",
        "outputId": "c27ebc29-8c5e-44d2-857a-8e262fc6a3ae"
      },
      "execution_count": null,
      "outputs": [
        {
          "output_type": "execute_result",
          "data": {
            "text/plain": [
              "\"['18.99' '399.00' '474.05' ... '9.99' '19.99' '13.99']\""
            ],
            "application/vnd.google.colaboratory.intrinsic+json": {
              "type": "string"
            }
          },
          "metadata": {},
          "execution_count": 41
        }
      ]
    },
    {
      "cell_type": "code",
      "source": [
        "chat_AI(\"\"\"In this series of numbers, some contain more than one period.\n",
        "Find three examples of these numbers with more than one period.\n",
        "\n",
        "Numbers: {}\n",
        "\"\"\".format(str(orderlines[\"unit_price\"].values)))\n",
        "# since we've used a multi-line string to help format our prompt, we cannot make it an f-string!\n",
        "# lucky the legacy method str.format() allows us to still pass data!"
      ],
      "metadata": {
        "colab": {
          "base_uri": "https://localhost:8080/"
        },
        "id": "c9D1QCvGzw4T",
        "outputId": "f30a6002-017c-428f-80d3-2c88a37fe4ff"
      },
      "execution_count": null,
      "outputs": [
        {
          "output_type": "stream",
          "name": "stdout",
          "text": [
            "To find three examples of numbers with more than one period, we can iterate through the given list of numbers and check if a number contains more than one period. Here's how you can do it:\n",
            "\n",
            "```python\n",
            "numbers = ['18.99', '399.00', '474.05', '9.99', '19.99', '13.99']\n",
            "\n",
            "counter = 0\n",
            "results = []\n",
            "\n",
            "for number in numbers:\n",
            "    if number.count('.') > 1:\n",
            "        results.append(number)\n",
            "        counter += 1\n",
            "        if counter == 3:\n",
            "            break\n",
            "\n",
            "print(results)\n",
            "```\n",
            "\n",
            "Output:\n",
            "```\n",
            "['18.99', '399.00', '474.05']\n",
            "```\n",
            "\n",
            "The code iterates through each number in the `numbers` list and uses the `count()` method to count the number of occurrences of the decimal point in the number. If the count is greater than 1, it is considered to have more than one period and will be added to the `results` list. We also use a counter to limit the number of results to 3. When the counter reaches 3, the loop breaks. Finally, we print the `results` list which contains the three numbers with more than one period.\n"
          ]
        }
      ]
    },
    {
      "cell_type": "markdown",
      "source": [
        "This was not the expected response, but we can use it -- with modifications."
      ],
      "metadata": {
        "id": "824MPn-H2KoU"
      }
    },
    {
      "cell_type": "code",
      "source": [
        "counter = 0\n",
        "results = []\n",
        "\n",
        "for number in orderlines[\"unit_price\"].to_list(): # replace numbers with a list of unit_price\n",
        "    if number.count(r'.') > 1:      # put a raw string in the count method, so it does not read '.' as a wildcard\n",
        "        results.append(number)\n",
        "        counter += 1\n",
        "        if counter == 3:\n",
        "            break\n",
        "results"
      ],
      "metadata": {
        "colab": {
          "base_uri": "https://localhost:8080/"
        },
        "id": "pGaBdE_e1WgI",
        "outputId": "f3a9868b-7c35-49ea-e856-d990ed5145fa"
      },
      "execution_count": null,
      "outputs": [
        {
          "output_type": "execute_result",
          "data": {
            "text/plain": [
              "['1.137.99', '2.565.99', '3.278.99']"
            ]
          },
          "metadata": {},
          "execution_count": 48
        }
      ]
    },
    {
      "cell_type": "markdown",
      "source": [
        "Now let's use this result to find all of our unit prices with two dots. Notice the amount of context given to help shape the outcome."
      ],
      "metadata": {
        "id": "nZV3NsOk2uPu"
      }
    },
    {
      "cell_type": "code",
      "source": [
        "chat_AI(\"\"\"Write a statement in python. The statement should:\n",
        "1. Search a column named 'unit_price' in a dataframe named 'orderlines'. Use the pandas library.\n",
        "2. Find entries matching the pattern ['1.137.99', '2.565.99', '3.278.99']. Use regex.\n",
        "3. Return all rows of the dataframe 'orderlines' matching this pattern. Use the .loc attribute to do so.\n",
        "\"\"\")"
      ],
      "metadata": {
        "colab": {
          "base_uri": "https://localhost:8080/"
        },
        "id": "fXMWqN0giwpT",
        "outputId": "1029fd23-348d-4813-fbf1-dd2c9e072a81"
      },
      "execution_count": null,
      "outputs": [
        {
          "output_type": "stream",
          "name": "stdout",
          "text": [
            "Certainly! Here's the statement that achieves the tasks you mentioned:\n",
            "\n",
            "```python\n",
            "import pandas as pd\n",
            "\n",
            "orderlines = pd.DataFrame(...) # Assuming you already have a dataframe named 'orderlines'\n",
            "\n",
            "pattern = r'[0-9]{1}\\.[0-9]{3}\\.[0-9]{2}'\n",
            "matches = orderlines.loc[orderlines['unit_price'].str.contains(pattern, regex=True)]\n",
            "\n",
            "print(matches)\n",
            "```\n",
            "\n",
            "Similarly, replace `...` in `orderlines = pd.DataFrame(...)` with the appropriate data to create the `orderlines` dataframe.\n",
            "\n",
            "In this statement, we once again import the `pandas` library for working with dataframes. We define the regex pattern `r'[0-9]{1}\\.[0-9]{3}\\.[0-9]{2}'`. This pattern matches a number with a single digit followed by a period, then 3 digits followed by another period, and finally 2 digits.\n",
            "\n",
            "Next, we use the `str.contains()` method on the 'unit_price' column of the `orderlines` dataframe to find rows that match the pattern. Setting `regex=True` allows us to use regex patterns in the search.\n",
            "\n",
            "Finally, we use the `.loc` attribute on the `orderlines` dataframe to return all rows that match the pattern. This will give us a subset of the `orderlines` dataframe that contains the desired rows. We then print this subset.\n"
          ]
        }
      ]
    },
    {
      "cell_type": "code",
      "source": [
        "# we copy and paste from the response\n",
        "# rather than using a print statement as above, we can directly display the output\n",
        "pattern = r'[0-9]{1,3}\\.[0-9]{3}\\.[0-9]{2}'\n",
        "orderlines.loc[orderlines['unit_price'].str.contains(pattern, regex=True)]"
      ],
      "metadata": {
        "colab": {
          "base_uri": "https://localhost:8080/",
          "height": 423
        },
        "id": "TbHme1us3yQV",
        "outputId": "2c4e6a29-1bfa-45d7-8704-bec1f0236d63"
      },
      "execution_count": null,
      "outputs": [
        {
          "output_type": "execute_result",
          "data": {
            "text/plain": [
              "             id  id_order  product_id  product_quantity      sku unit_price  \\\n",
              "6       1119115    299544           0                 1  APP1582   1.137.99   \n",
              "11      1119126    299549           0                 1  PAC0929   2.565.99   \n",
              "15      1119131    299553           0                 1  APP1854   3.278.99   \n",
              "43      1119195    299582           0                 1  PAC0961   2.616.99   \n",
              "59      1119214    299596           0                 1  PAC1599   2.873.99   \n",
              "...         ...       ...         ...               ...      ...        ...   \n",
              "293862  1649999    452946           0                 1  APP2075   2.999.00   \n",
              "293887  1650045    527321           0                 1  PAC2148   3.497.00   \n",
              "293889  1650050    527324           0                 1  PAC2117   3.075.00   \n",
              "293911  1650088    527342           0                 1  APP2492   1.329.00   \n",
              "293936  1650135    527364           0                 1  APP2491   1.329.00   \n",
              "\n",
              "                       date  \n",
              "6       2017-01-01 01:17:21  \n",
              "11      2017-01-01 02:07:42  \n",
              "15      2017-01-01 02:14:47  \n",
              "43      2017-01-01 08:54:00  \n",
              "59      2017-01-01 09:53:11  \n",
              "...                     ...  \n",
              "293862  2018-03-14 13:03:33  \n",
              "293887  2018-03-14 13:10:15  \n",
              "293889  2018-03-14 13:10:56  \n",
              "293911  2018-03-14 13:24:51  \n",
              "293936  2018-03-14 13:36:13  \n",
              "\n",
              "[36169 rows x 7 columns]"
            ],
            "text/html": [
              "\n",
              "  <div id=\"df-a1982bb7-f727-479e-88e6-57e80d59639e\" class=\"colab-df-container\">\n",
              "    <div>\n",
              "<style scoped>\n",
              "    .dataframe tbody tr th:only-of-type {\n",
              "        vertical-align: middle;\n",
              "    }\n",
              "\n",
              "    .dataframe tbody tr th {\n",
              "        vertical-align: top;\n",
              "    }\n",
              "\n",
              "    .dataframe thead th {\n",
              "        text-align: right;\n",
              "    }\n",
              "</style>\n",
              "<table border=\"1\" class=\"dataframe\">\n",
              "  <thead>\n",
              "    <tr style=\"text-align: right;\">\n",
              "      <th></th>\n",
              "      <th>id</th>\n",
              "      <th>id_order</th>\n",
              "      <th>product_id</th>\n",
              "      <th>product_quantity</th>\n",
              "      <th>sku</th>\n",
              "      <th>unit_price</th>\n",
              "      <th>date</th>\n",
              "    </tr>\n",
              "  </thead>\n",
              "  <tbody>\n",
              "    <tr>\n",
              "      <th>6</th>\n",
              "      <td>1119115</td>\n",
              "      <td>299544</td>\n",
              "      <td>0</td>\n",
              "      <td>1</td>\n",
              "      <td>APP1582</td>\n",
              "      <td>1.137.99</td>\n",
              "      <td>2017-01-01 01:17:21</td>\n",
              "    </tr>\n",
              "    <tr>\n",
              "      <th>11</th>\n",
              "      <td>1119126</td>\n",
              "      <td>299549</td>\n",
              "      <td>0</td>\n",
              "      <td>1</td>\n",
              "      <td>PAC0929</td>\n",
              "      <td>2.565.99</td>\n",
              "      <td>2017-01-01 02:07:42</td>\n",
              "    </tr>\n",
              "    <tr>\n",
              "      <th>15</th>\n",
              "      <td>1119131</td>\n",
              "      <td>299553</td>\n",
              "      <td>0</td>\n",
              "      <td>1</td>\n",
              "      <td>APP1854</td>\n",
              "      <td>3.278.99</td>\n",
              "      <td>2017-01-01 02:14:47</td>\n",
              "    </tr>\n",
              "    <tr>\n",
              "      <th>43</th>\n",
              "      <td>1119195</td>\n",
              "      <td>299582</td>\n",
              "      <td>0</td>\n",
              "      <td>1</td>\n",
              "      <td>PAC0961</td>\n",
              "      <td>2.616.99</td>\n",
              "      <td>2017-01-01 08:54:00</td>\n",
              "    </tr>\n",
              "    <tr>\n",
              "      <th>59</th>\n",
              "      <td>1119214</td>\n",
              "      <td>299596</td>\n",
              "      <td>0</td>\n",
              "      <td>1</td>\n",
              "      <td>PAC1599</td>\n",
              "      <td>2.873.99</td>\n",
              "      <td>2017-01-01 09:53:11</td>\n",
              "    </tr>\n",
              "    <tr>\n",
              "      <th>...</th>\n",
              "      <td>...</td>\n",
              "      <td>...</td>\n",
              "      <td>...</td>\n",
              "      <td>...</td>\n",
              "      <td>...</td>\n",
              "      <td>...</td>\n",
              "      <td>...</td>\n",
              "    </tr>\n",
              "    <tr>\n",
              "      <th>293862</th>\n",
              "      <td>1649999</td>\n",
              "      <td>452946</td>\n",
              "      <td>0</td>\n",
              "      <td>1</td>\n",
              "      <td>APP2075</td>\n",
              "      <td>2.999.00</td>\n",
              "      <td>2018-03-14 13:03:33</td>\n",
              "    </tr>\n",
              "    <tr>\n",
              "      <th>293887</th>\n",
              "      <td>1650045</td>\n",
              "      <td>527321</td>\n",
              "      <td>0</td>\n",
              "      <td>1</td>\n",
              "      <td>PAC2148</td>\n",
              "      <td>3.497.00</td>\n",
              "      <td>2018-03-14 13:10:15</td>\n",
              "    </tr>\n",
              "    <tr>\n",
              "      <th>293889</th>\n",
              "      <td>1650050</td>\n",
              "      <td>527324</td>\n",
              "      <td>0</td>\n",
              "      <td>1</td>\n",
              "      <td>PAC2117</td>\n",
              "      <td>3.075.00</td>\n",
              "      <td>2018-03-14 13:10:56</td>\n",
              "    </tr>\n",
              "    <tr>\n",
              "      <th>293911</th>\n",
              "      <td>1650088</td>\n",
              "      <td>527342</td>\n",
              "      <td>0</td>\n",
              "      <td>1</td>\n",
              "      <td>APP2492</td>\n",
              "      <td>1.329.00</td>\n",
              "      <td>2018-03-14 13:24:51</td>\n",
              "    </tr>\n",
              "    <tr>\n",
              "      <th>293936</th>\n",
              "      <td>1650135</td>\n",
              "      <td>527364</td>\n",
              "      <td>0</td>\n",
              "      <td>1</td>\n",
              "      <td>APP2491</td>\n",
              "      <td>1.329.00</td>\n",
              "      <td>2018-03-14 13:36:13</td>\n",
              "    </tr>\n",
              "  </tbody>\n",
              "</table>\n",
              "<p>36169 rows × 7 columns</p>\n",
              "</div>\n",
              "    <div class=\"colab-df-buttons\">\n",
              "\n",
              "  <div class=\"colab-df-container\">\n",
              "    <button class=\"colab-df-convert\" onclick=\"convertToInteractive('df-a1982bb7-f727-479e-88e6-57e80d59639e')\"\n",
              "            title=\"Convert this dataframe to an interactive table.\"\n",
              "            style=\"display:none;\">\n",
              "\n",
              "  <svg xmlns=\"http://www.w3.org/2000/svg\" height=\"24px\" viewBox=\"0 -960 960 960\">\n",
              "    <path d=\"M120-120v-720h720v720H120Zm60-500h600v-160H180v160Zm220 220h160v-160H400v160Zm0 220h160v-160H400v160ZM180-400h160v-160H180v160Zm440 0h160v-160H620v160ZM180-180h160v-160H180v160Zm440 0h160v-160H620v160Z\"/>\n",
              "  </svg>\n",
              "    </button>\n",
              "\n",
              "  <style>\n",
              "    .colab-df-container {\n",
              "      display:flex;\n",
              "      gap: 12px;\n",
              "    }\n",
              "\n",
              "    .colab-df-convert {\n",
              "      background-color: #E8F0FE;\n",
              "      border: none;\n",
              "      border-radius: 50%;\n",
              "      cursor: pointer;\n",
              "      display: none;\n",
              "      fill: #1967D2;\n",
              "      height: 32px;\n",
              "      padding: 0 0 0 0;\n",
              "      width: 32px;\n",
              "    }\n",
              "\n",
              "    .colab-df-convert:hover {\n",
              "      background-color: #E2EBFA;\n",
              "      box-shadow: 0px 1px 2px rgba(60, 64, 67, 0.3), 0px 1px 3px 1px rgba(60, 64, 67, 0.15);\n",
              "      fill: #174EA6;\n",
              "    }\n",
              "\n",
              "    .colab-df-buttons div {\n",
              "      margin-bottom: 4px;\n",
              "    }\n",
              "\n",
              "    [theme=dark] .colab-df-convert {\n",
              "      background-color: #3B4455;\n",
              "      fill: #D2E3FC;\n",
              "    }\n",
              "\n",
              "    [theme=dark] .colab-df-convert:hover {\n",
              "      background-color: #434B5C;\n",
              "      box-shadow: 0px 1px 3px 1px rgba(0, 0, 0, 0.15);\n",
              "      filter: drop-shadow(0px 1px 2px rgba(0, 0, 0, 0.3));\n",
              "      fill: #FFFFFF;\n",
              "    }\n",
              "  </style>\n",
              "\n",
              "    <script>\n",
              "      const buttonEl =\n",
              "        document.querySelector('#df-a1982bb7-f727-479e-88e6-57e80d59639e button.colab-df-convert');\n",
              "      buttonEl.style.display =\n",
              "        google.colab.kernel.accessAllowed ? 'block' : 'none';\n",
              "\n",
              "      async function convertToInteractive(key) {\n",
              "        const element = document.querySelector('#df-a1982bb7-f727-479e-88e6-57e80d59639e');\n",
              "        const dataTable =\n",
              "          await google.colab.kernel.invokeFunction('convertToInteractive',\n",
              "                                                    [key], {});\n",
              "        if (!dataTable) return;\n",
              "\n",
              "        const docLinkHtml = 'Like what you see? Visit the ' +\n",
              "          '<a target=\"_blank\" href=https://colab.research.google.com/notebooks/data_table.ipynb>data table notebook</a>'\n",
              "          + ' to learn more about interactive tables.';\n",
              "        element.innerHTML = '';\n",
              "        dataTable['output_type'] = 'display_data';\n",
              "        await google.colab.output.renderOutput(dataTable, element);\n",
              "        const docLink = document.createElement('div');\n",
              "        docLink.innerHTML = docLinkHtml;\n",
              "        element.appendChild(docLink);\n",
              "      }\n",
              "    </script>\n",
              "  </div>\n",
              "\n",
              "\n",
              "<div id=\"df-415a7363-0fc2-43d8-a59b-e690e4d3453b\">\n",
              "  <button class=\"colab-df-quickchart\" onclick=\"quickchart('df-415a7363-0fc2-43d8-a59b-e690e4d3453b')\"\n",
              "            title=\"Suggest charts\"\n",
              "            style=\"display:none;\">\n",
              "\n",
              "<svg xmlns=\"http://www.w3.org/2000/svg\" height=\"24px\"viewBox=\"0 0 24 24\"\n",
              "     width=\"24px\">\n",
              "    <g>\n",
              "        <path d=\"M19 3H5c-1.1 0-2 .9-2 2v14c0 1.1.9 2 2 2h14c1.1 0 2-.9 2-2V5c0-1.1-.9-2-2-2zM9 17H7v-7h2v7zm4 0h-2V7h2v10zm4 0h-2v-4h2v4z\"/>\n",
              "    </g>\n",
              "</svg>\n",
              "  </button>\n",
              "\n",
              "<style>\n",
              "  .colab-df-quickchart {\n",
              "      --bg-color: #E8F0FE;\n",
              "      --fill-color: #1967D2;\n",
              "      --hover-bg-color: #E2EBFA;\n",
              "      --hover-fill-color: #174EA6;\n",
              "      --disabled-fill-color: #AAA;\n",
              "      --disabled-bg-color: #DDD;\n",
              "  }\n",
              "\n",
              "  [theme=dark] .colab-df-quickchart {\n",
              "      --bg-color: #3B4455;\n",
              "      --fill-color: #D2E3FC;\n",
              "      --hover-bg-color: #434B5C;\n",
              "      --hover-fill-color: #FFFFFF;\n",
              "      --disabled-bg-color: #3B4455;\n",
              "      --disabled-fill-color: #666;\n",
              "  }\n",
              "\n",
              "  .colab-df-quickchart {\n",
              "    background-color: var(--bg-color);\n",
              "    border: none;\n",
              "    border-radius: 50%;\n",
              "    cursor: pointer;\n",
              "    display: none;\n",
              "    fill: var(--fill-color);\n",
              "    height: 32px;\n",
              "    padding: 0;\n",
              "    width: 32px;\n",
              "  }\n",
              "\n",
              "  .colab-df-quickchart:hover {\n",
              "    background-color: var(--hover-bg-color);\n",
              "    box-shadow: 0 1px 2px rgba(60, 64, 67, 0.3), 0 1px 3px 1px rgba(60, 64, 67, 0.15);\n",
              "    fill: var(--button-hover-fill-color);\n",
              "  }\n",
              "\n",
              "  .colab-df-quickchart-complete:disabled,\n",
              "  .colab-df-quickchart-complete:disabled:hover {\n",
              "    background-color: var(--disabled-bg-color);\n",
              "    fill: var(--disabled-fill-color);\n",
              "    box-shadow: none;\n",
              "  }\n",
              "\n",
              "  .colab-df-spinner {\n",
              "    border: 2px solid var(--fill-color);\n",
              "    border-color: transparent;\n",
              "    border-bottom-color: var(--fill-color);\n",
              "    animation:\n",
              "      spin 1s steps(1) infinite;\n",
              "  }\n",
              "\n",
              "  @keyframes spin {\n",
              "    0% {\n",
              "      border-color: transparent;\n",
              "      border-bottom-color: var(--fill-color);\n",
              "      border-left-color: var(--fill-color);\n",
              "    }\n",
              "    20% {\n",
              "      border-color: transparent;\n",
              "      border-left-color: var(--fill-color);\n",
              "      border-top-color: var(--fill-color);\n",
              "    }\n",
              "    30% {\n",
              "      border-color: transparent;\n",
              "      border-left-color: var(--fill-color);\n",
              "      border-top-color: var(--fill-color);\n",
              "      border-right-color: var(--fill-color);\n",
              "    }\n",
              "    40% {\n",
              "      border-color: transparent;\n",
              "      border-right-color: var(--fill-color);\n",
              "      border-top-color: var(--fill-color);\n",
              "    }\n",
              "    60% {\n",
              "      border-color: transparent;\n",
              "      border-right-color: var(--fill-color);\n",
              "    }\n",
              "    80% {\n",
              "      border-color: transparent;\n",
              "      border-right-color: var(--fill-color);\n",
              "      border-bottom-color: var(--fill-color);\n",
              "    }\n",
              "    90% {\n",
              "      border-color: transparent;\n",
              "      border-bottom-color: var(--fill-color);\n",
              "    }\n",
              "  }\n",
              "</style>\n",
              "\n",
              "  <script>\n",
              "    async function quickchart(key) {\n",
              "      const quickchartButtonEl =\n",
              "        document.querySelector('#' + key + ' button');\n",
              "      quickchartButtonEl.disabled = true;  // To prevent multiple clicks.\n",
              "      quickchartButtonEl.classList.add('colab-df-spinner');\n",
              "      try {\n",
              "        const charts = await google.colab.kernel.invokeFunction(\n",
              "            'suggestCharts', [key], {});\n",
              "      } catch (error) {\n",
              "        console.error('Error during call to suggestCharts:', error);\n",
              "      }\n",
              "      quickchartButtonEl.classList.remove('colab-df-spinner');\n",
              "      quickchartButtonEl.classList.add('colab-df-quickchart-complete');\n",
              "    }\n",
              "    (() => {\n",
              "      let quickchartButtonEl =\n",
              "        document.querySelector('#df-415a7363-0fc2-43d8-a59b-e690e4d3453b button');\n",
              "      quickchartButtonEl.style.display =\n",
              "        google.colab.kernel.accessAllowed ? 'block' : 'none';\n",
              "    })();\n",
              "  </script>\n",
              "</div>\n",
              "    </div>\n",
              "  </div>\n"
            ]
          },
          "metadata": {},
          "execution_count": 50
        }
      ]
    },
    {
      "cell_type": "markdown",
      "source": [
        "With the help of our assistant, we've found the orderlines with corrupted unit prices! Maybe it could be used to help clean the prices, rather than dropping them all.."
      ],
      "metadata": {
        "id": "uXlbiHj14gsy"
      }
    },
    {
      "cell_type": "markdown",
      "source": [
        "## Assistants API"
      ],
      "metadata": {
        "id": "btOysP5-92Fc"
      }
    },
    {
      "cell_type": "markdown",
      "source": [
        "Thus far, we have only been able to give limited data, in the form of strings, to our AI. We can create a more advanced Assistant capable of reading files hosted by OpenAI."
      ],
      "metadata": {
        "id": "BrUnRMFe_gGQ"
      }
    },
    {
      "cell_type": "markdown",
      "source": [
        "### Uploading files"
      ],
      "metadata": {
        "id": "4v6eg26quc0I"
      }
    },
    {
      "cell_type": "markdown",
      "source": [
        "Since each upload will return a `FileObject` containing a file ID which the Assistant will need to access the file, we will create a dictionary to hold them."
      ],
      "metadata": {
        "id": "amo0mqbHg9E8"
      }
    },
    {
      "cell_type": "code",
      "source": [
        "uploaded_files = {}"
      ],
      "metadata": {
        "id": "4peglb4kc8Rf"
      },
      "execution_count": null,
      "outputs": []
    },
    {
      "cell_type": "markdown",
      "source": [
        "At the time of writing, files could not be uploaded directly from a Google Drive link.\n",
        "\n",
        "We can, however, add files to our working directory by clicking the 'file folder' and dragging the file or files into the space. File paths then work as locally, but all files will be deleted from the directory after the session is terminated.\n",
        "\n"
      ],
      "metadata": {
        "id": "Qy-Wlwq0kErr"
      }
    },
    {
      "cell_type": "markdown",
      "source": [
        "![Screenshot 2023-12-25 112336.png](data:image/png;base64,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)"
      ],
      "metadata": {
        "id": "GhbxZgJPUoV3"
      }
    },
    {
      "cell_type": "code",
      "source": [
        "from openai import OpenAI\n",
        "client = OpenAI(api_key=API_key)"
      ],
      "metadata": {
        "id": "OR0zsGPBVYGx"
      },
      "execution_count": null,
      "outputs": []
    },
    {
      "cell_type": "code",
      "source": [
        "# upload file and save metadata keyed to the file name\n",
        "# to be used by the Assistant, files must have the purpose \"assistants\"\n",
        "uploaded_files[\"orders\"] = client.files.create(\n",
        "  file=open(\"./orders.csv\", \"rb\"),\n",
        "  purpose=\"assistants\"\n",
        ")"
      ],
      "metadata": {
        "id": "Ptvyj9xg95Lp"
      },
      "execution_count": null,
      "outputs": []
    },
    {
      "cell_type": "code",
      "source": [
        "uploaded_files[\"orderlines\"] = client.files.create(\n",
        "  file=open(\"./orderlines.csv\", \"rb\"),\n",
        "  purpose=\"assistants\"\n",
        ")\n",
        "uploaded_files[\"products\"] = client.files.create(\n",
        "  file=open(\"./products.csv\", \"rb\"),\n",
        "  purpose=\"assistants\"\n",
        ")\n",
        "uploaded_files[\"brands\"] = client.files.create(\n",
        "  file=open(\"./brands.csv\", \"rb\"),\n",
        "  purpose=\"assistants\"\n",
        ")"
      ],
      "metadata": {
        "id": "2gTIeM2Fowfi"
      },
      "execution_count": null,
      "outputs": []
    },
    {
      "cell_type": "markdown",
      "source": [
        "We now save our dictionary of uploaded file information as a serialized binary, or 'pickle'. This pickle can later be read to restore the dictionary."
      ],
      "metadata": {
        "id": "wHOcK_vim5P7"
      }
    },
    {
      "cell_type": "code",
      "source": [
        "import pickle\n",
        "\n",
        "# serialize the dictionary\n",
        "with open(\"uploaded_files.pkl\", \"wb\") as f:\n",
        "    pickle.dump(uploaded_files, f)\n",
        "\n",
        "# download a copy of the serialized file for local storage\n",
        "from google.colab import files\n",
        "files.download(\"uploaded_files.pkl\")"
      ],
      "metadata": {
        "colab": {
          "base_uri": "https://localhost:8080/",
          "height": 17
        },
        "id": "KdL7CyMAmSzU",
        "outputId": "a8f4a0e3-24c1-4e26-9c71-f6a57c9e2dfa"
      },
      "execution_count": null,
      "outputs": [
        {
          "output_type": "display_data",
          "data": {
            "text/plain": [
              "<IPython.core.display.Javascript object>"
            ],
            "application/javascript": [
              "\n",
              "    async function download(id, filename, size) {\n",
              "      if (!google.colab.kernel.accessAllowed) {\n",
              "        return;\n",
              "      }\n",
              "      const div = document.createElement('div');\n",
              "      const label = document.createElement('label');\n",
              "      label.textContent = `Downloading \"${filename}\": `;\n",
              "      div.appendChild(label);\n",
              "      const progress = document.createElement('progress');\n",
              "      progress.max = size;\n",
              "      div.appendChild(progress);\n",
              "      document.body.appendChild(div);\n",
              "\n",
              "      const buffers = [];\n",
              "      let downloaded = 0;\n",
              "\n",
              "      const channel = await google.colab.kernel.comms.open(id);\n",
              "      // Send a message to notify the kernel that we're ready.\n",
              "      channel.send({})\n",
              "\n",
              "      for await (const message of channel.messages) {\n",
              "        // Send a message to notify the kernel that we're ready.\n",
              "        channel.send({})\n",
              "        if (message.buffers) {\n",
              "          for (const buffer of message.buffers) {\n",
              "            buffers.push(buffer);\n",
              "            downloaded += buffer.byteLength;\n",
              "            progress.value = downloaded;\n",
              "          }\n",
              "        }\n",
              "      }\n",
              "      const blob = new Blob(buffers, {type: 'application/binary'});\n",
              "      const a = document.createElement('a');\n",
              "      a.href = window.URL.createObjectURL(blob);\n",
              "      a.download = filename;\n",
              "      div.appendChild(a);\n",
              "      a.click();\n",
              "      div.remove();\n",
              "    }\n",
              "  "
            ]
          },
          "metadata": {}
        },
        {
          "output_type": "display_data",
          "data": {
            "text/plain": [
              "<IPython.core.display.Javascript object>"
            ],
            "application/javascript": [
              "download(\"download_ef307971-3ba6-4279-80b5-3892df10efeb\", \"files.pkl\", 871)"
            ]
          },
          "metadata": {}
        }
      ]
    },
    {
      "cell_type": "code",
      "source": [
        "# to restore the file\n",
        "\n",
        "# import pickle\n",
        "# with open(\"uploaded_files.pkl\", \"rb\") as f:\n",
        "#     uploaded_files = pickle.load(f)"
      ],
      "metadata": {
        "id": "D8mcytrhdUiu"
      },
      "execution_count": null,
      "outputs": []
    },
    {
      "cell_type": "markdown",
      "source": [
        "To see the file ID of the uploaded `\"orders.csv\"`, we access the `FileObject` with the appropriate key and use the `.id` attribute."
      ],
      "metadata": {
        "id": "Ni8uzNG4p0r0"
      }
    },
    {
      "cell_type": "code",
      "source": [
        "uploaded_files[\"orders\"].id"
      ],
      "metadata": {
        "colab": {
          "base_uri": "https://localhost:8080/",
          "height": 36
        },
        "id": "OPEMPFqQoEmZ",
        "outputId": "bfe7a590-7324-4567-8ec7-5cb4c4af8e95"
      },
      "execution_count": null,
      "outputs": [
        {
          "output_type": "execute_result",
          "data": {
            "text/plain": [
              "'file-NmFKe94PKSecpFgna7gOxQl9'"
            ],
            "application/vnd.google.colaboratory.intrinsic+json": {
              "type": "string"
            }
          },
          "metadata": {},
          "execution_count": 4
        }
      ]
    },
    {
      "cell_type": "markdown",
      "source": [
        "If lost, we can recover information about our uploaded files with the `files.list()` method:"
      ],
      "metadata": {
        "id": "82X8C5c8jvT3"
      }
    },
    {
      "cell_type": "code",
      "source": [
        "client.files.list()"
      ],
      "metadata": {
        "colab": {
          "base_uri": "https://localhost:8080/"
        },
        "id": "c4kt_dW_ja8w",
        "outputId": "41f6a902-f2f8-47c9-cd9b-32eb17d05536"
      },
      "execution_count": null,
      "outputs": [
        {
          "output_type": "execute_result",
          "data": {
            "text/plain": [
              "SyncPage[FileObject](data=[FileObject(id='file-AxtjJeXUsHWsx1RMMypTngZx', bytes=2251, created_at=1703502197, filename='brands.csv', object='file', purpose='assistants', status='processed', status_details=None), FileObject(id='file-csPdJbJVZCptb34gnzfSTYxC', bytes=3275691, created_at=1703502196, filename='products.csv', object='file', purpose='assistants', status='processed', status_details=None), FileObject(id='file-EOiEGPwHMYtHE7gaIDxn0R1Z', bytes=15802200, created_at=1703502194, filename='orderlines.csv', object='file', purpose='assistants', status='processed', status_details=None), FileObject(id='file-NmFKe94PKSecpFgna7gOxQl9', bytes=10596923, created_at=1703499846, filename='orders.csv', object='file', purpose='assistants', status='processed', status_details=None)], object='list', has_more=False)"
            ]
          },
          "metadata": {},
          "execution_count": 6
        }
      ]
    },
    {
      "cell_type": "markdown",
      "source": [
        "### Initializing the Assistant"
      ],
      "metadata": {
        "id": "4f_M6kai2gCJ"
      }
    },
    {
      "cell_type": "markdown",
      "source": [
        "With files now in place, we create an `Assistant`, giving it a set of [tools](https://platform.openai.com/docs/assistants/tools) to use and a purpose, as well as the file IDs just created, with the `tools`, `description` and `file_ids` attributes."
      ],
      "metadata": {
        "id": "CQBLStGpox6Z"
      }
    },
    {
      "cell_type": "code",
      "source": [
        "assistant = client.beta.assistants.create(\n",
        "  name=\"Data bootcamp assistant\",\n",
        "  description=\"You are an assistant in a data science bootcamp, capable of providing insight on datasets, guidance for analysing data, and writing and debugging code.\",\n",
        "  model=\"gpt-3.5-turbo\",\n",
        "  tools=[{\"type\": \"code_interpreter\"}],\n",
        "  file_ids=[uploaded_files[file].id for file in uploaded_files]\n",
        ")"
      ],
      "metadata": {
        "id": "0RKg9ngD2nVY"
      },
      "execution_count": null,
      "outputs": []
    },
    {
      "cell_type": "code",
      "source": [
        "# or load assistant data from pickle (see end of notebook)\n",
        "with open('my_conversation.pkl', 'rb') as f:\n",
        "    my_conversation = pickle.load(f)\n",
        "my_conversation\n",
        "assistant = my_conversation[\"assistant\"]"
      ],
      "metadata": {
        "id": "WkYtUq9eWzyJ"
      },
      "execution_count": null,
      "outputs": []
    },
    {
      "cell_type": "markdown",
      "source": [
        "The `Assistant` will come with its own metadata, including an `id` we will need later to identify it."
      ],
      "metadata": {
        "id": "KGHt3kLIvP-9"
      }
    },
    {
      "cell_type": "code",
      "source": [
        "assistant"
      ],
      "metadata": {
        "colab": {
          "base_uri": "https://localhost:8080/"
        },
        "id": "n6gfY3cC3bP6",
        "outputId": "63acdec8-e5b3-49cb-ecb1-1d0a5aef6e82"
      },
      "execution_count": null,
      "outputs": [
        {
          "output_type": "execute_result",
          "data": {
            "text/plain": [
              "Assistant(id='asst_xqgRK079ZqBmFv5w2jC5SenG', created_at=1703506347, description='You are an assistant in a data science bootcamp, capable of providing insight on datasets, guidance for analysing data, and writing and debugging code.', file_ids=['file-NmFKe94PKSecpFgna7gOxQl9', 'file-EOiEGPwHMYtHE7gaIDxn0R1Z', 'file-csPdJbJVZCptb34gnzfSTYxC', 'file-AxtjJeXUsHWsx1RMMypTngZx'], instructions=None, metadata={}, model='gpt-3.5-turbo', name='Data bootcamp assistant', object='assistant', tools=[ToolCodeInterpreter(type='code_interpreter')])"
            ]
          },
          "metadata": {},
          "execution_count": 36
        }
      ]
    },
    {
      "cell_type": "markdown",
      "source": [
        "### Interacting with the Assistant"
      ],
      "metadata": {
        "id": "grjq0BSsrTee"
      }
    },
    {
      "cell_type": "markdown",
      "source": [
        "To interact with our `Assistant`, we also need to create a `Thread`. A Thread is a collection of messages which the Assistant then reads, allowing us to build up a conversation, also known as context.\n",
        "\n",
        "We'll initialize our thread with a message establishing the goal of the conversation, as well as again listing the files we wish to work with."
      ],
      "metadata": {
        "id": "HwUMsyh1qK4u"
      }
    },
    {
      "cell_type": "code",
      "source": [
        "thread = client.beta.threads.create(\n",
        "  messages=[\n",
        "    {\n",
        "      \"role\": \"user\",\n",
        "      \"content\": \"Please help with the analysis of these files for my project.\",\n",
        "      \"file_ids\": [uploaded_files[file].id for file in uploaded_files]\n",
        "    }\n",
        "  ]\n",
        ")"
      ],
      "metadata": {
        "id": "qNbGyeCk53TV"
      },
      "execution_count": null,
      "outputs": []
    },
    {
      "cell_type": "markdown",
      "source": [
        "To continue adding messages to our thread, we'll create a function accepting a string as input."
      ],
      "metadata": {
        "id": "FyZ1pC-Or-gd"
      }
    },
    {
      "cell_type": "code",
      "source": [
        "def add_message(user_input):\n",
        "    client.beta.threads.messages.create(\n",
        "        thread_id=thread.id,    # id is created in previous step creating thread\n",
        "        role=\"user\",\n",
        "        content=user_input\n",
        "    )"
      ],
      "metadata": {
        "id": "6hKpTpEe6zoA"
      },
      "execution_count": null,
      "outputs": []
    },
    {
      "cell_type": "code",
      "source": [
        "add_message(\"Do the number of distinct orders match in the orders and orderlines tables?\")"
      ],
      "metadata": {
        "id": "p3Pueko-aYF_"
      },
      "execution_count": null,
      "outputs": []
    },
    {
      "cell_type": "markdown",
      "source": [
        "We also create a function to read the messages in our thread."
      ],
      "metadata": {
        "id": "gdkQVdyjsiDJ"
      }
    },
    {
      "cell_type": "code",
      "source": [
        "def read_thread():\n",
        "    thread_messages = client.beta.threads.messages.list(thread.id)\n",
        "    for fiber in thread_messages:\n",
        "        print(f\"{fiber.role}: {fiber.content[0].text.value}\")"
      ],
      "metadata": {
        "id": "kmZh1649YEFt"
      },
      "execution_count": null,
      "outputs": []
    },
    {
      "cell_type": "code",
      "source": [
        "read_thread()"
      ],
      "metadata": {
        "colab": {
          "base_uri": "https://localhost:8080/"
        },
        "id": "ldCjGm6qawAw",
        "outputId": "0932830d-d619-4b4e-aaf4-a0b029478547"
      },
      "execution_count": null,
      "outputs": [
        {
          "output_type": "stream",
          "name": "stdout",
          "text": [
            "user: Do the number of distinct orders match in the orders and orderlines tables?\n",
            "user: Please help with the analysis of these files for my project.\n"
          ]
        }
      ]
    },
    {
      "cell_type": "markdown",
      "source": [
        "Finally, we need to create a `Run`, which gives `Assistant` the instruction to read the conversation and provide its own input."
      ],
      "metadata": {
        "id": "Z4qCgmTntawa"
      }
    },
    {
      "cell_type": "code",
      "source": [
        "run = client.beta.threads.runs.create(\n",
        "  thread_id=thread.id,\n",
        "  assistant_id=assistant.id\n",
        ")"
      ],
      "metadata": {
        "id": "bfIZ1Zcv80FC"
      },
      "execution_count": null,
      "outputs": []
    },
    {
      "cell_type": "markdown",
      "source": [
        "We need to check the status of our `Run` to see if the `Assistant` has completed its task. Once complete, we check the `Thread` for new messages."
      ],
      "metadata": {
        "id": "SPUh_FFkulOg"
      }
    },
    {
      "cell_type": "code",
      "source": [
        "client.beta.threads.runs.retrieve(\n",
        "  thread_id=thread.id,\n",
        "  run_id=run.id\n",
        ").status"
      ],
      "metadata": {
        "colab": {
          "base_uri": "https://localhost:8080/",
          "height": 36
        },
        "id": "Xr1Tg9Zw9PPb",
        "outputId": "60605ab3-dc54-4f28-8bd4-aa15ebbd607e"
      },
      "execution_count": null,
      "outputs": [
        {
          "output_type": "execute_result",
          "data": {
            "text/plain": [
              "'completed'"
            ],
            "application/vnd.google.colaboratory.intrinsic+json": {
              "type": "string"
            }
          },
          "metadata": {},
          "execution_count": 57
        }
      ]
    },
    {
      "cell_type": "code",
      "source": [
        "read_thread()"
      ],
      "metadata": {
        "colab": {
          "base_uri": "https://localhost:8080/"
        },
        "id": "RyMYme1YhJnU",
        "outputId": "7d6a377e-8e3d-49fc-e47c-0bc3e31e17c2"
      },
      "execution_count": null,
      "outputs": [
        {
          "output_type": "stream",
          "name": "stdout",
          "text": [
            "assistant: The number of distinct orders in the \"orders\" table is 226,909, while the number of distinct orders in the \"orderlines\" table is 204,855. Therefore, the number of distinct orders does not match between the two tables.\n",
            "assistant: The column names in the \"orders\" file are: 'order_id', 'created_date', 'total_paid', 'state'.\n",
            "The column names in the \"orderlines\" file are: 'id', 'id_order', 'product_id', 'product_quantity', 'sku', 'unit_price', 'date'.\n",
            "\n",
            "To count the number of distinct orders, we need to identify the corresponding columns that represent the order ID in each file. From the column names, it appears that 'order_id' in the \"orders\" file and 'id_order' in the \"orderlines\" file may correspond to the order ID.\n",
            "\n",
            "Let me read the files again, considering these columns as the order ID columns.\n",
            "assistant: It seems there was an error in reading the files. Let me check the column names in the files.\n",
            "user: Do the number of distinct orders match in the orders and orderlines tables?\n",
            "user: Each file is a csv\n",
            "assistant: To answer your question, we need to analyze the contents of the \"orders\" and \"orderlines\" tables. Could you please provide the file formats of these tables?\n",
            "user: Do the number of distinct orders match in the orders and orderlines tables?\n",
            "user: Please help with the analysis of these files for my project.\n"
          ]
        }
      ]
    },
    {
      "cell_type": "markdown",
      "source": [
        "### Bringing the steps together"
      ],
      "metadata": {
        "id": "chiwQWn-u468"
      }
    },
    {
      "cell_type": "markdown",
      "source": [
        "Finally, we can unify these disparate steps for adding messages and reading the response."
      ],
      "metadata": {
        "id": "4bS8qRbXvetS"
      }
    },
    {
      "cell_type": "code",
      "source": [
        "def update_conversation(text):\n",
        "    import time\n",
        "    add_message(text)\n",
        "    run = client.beta.threads.runs.create(thread_id=thread.id, assistant_id=assistant.id)\n",
        "    # provide an initial pause before checking response\n",
        "    time.sleep(6)\n",
        "    # limit the number of times the response is checked\n",
        "    reply_attempts = 0\n",
        "    while reply_attempts < 10:\n",
        "        if client.beta.threads.runs.retrieve(thread_id=thread.id, run_id=run.id).status == 'completed':\n",
        "            read_thread()\n",
        "            return\n",
        "        elif client.beta.threads.runs.retrieve(thread_id=thread.id, run_id=run.id).status == 'failed':\n",
        "            print(run.last_error)\n",
        "            return\n",
        "        reply_attempts += 1\n",
        "        # pause between interations to allow processing time\n",
        "        time.sleep(6)\n",
        "    print(f\"Automated status check timeout. To check manually, use run_id='{run.id}'\")"
      ],
      "metadata": {
        "id": "C3e0EaTmv6Jc"
      },
      "execution_count": null,
      "outputs": []
    },
    {
      "cell_type": "markdown",
      "source": [
        "Depending on the complexity of the task and the size of the data being processed, adjustments to the number of attempts and resting time between status checks may need to be adjusted."
      ],
      "metadata": {
        "id": "iNphaDHw4XjC"
      }
    },
    {
      "cell_type": "code",
      "source": [
        "update_conversation(\"Do all products in the products table appear in an order in orderlines?\")"
      ],
      "metadata": {
        "id": "lewxomzH8dMy",
        "colab": {
          "base_uri": "https://localhost:8080/"
        },
        "outputId": "8b6e3fb7-071b-415e-e716-6df3de2a4cc3"
      },
      "execution_count": null,
      "outputs": [
        {
          "output_type": "stream",
          "name": "stdout",
          "text": [
            "Automated status check timeout. To check manually, use run_id=run_HfMNG2dGXRFJhPQ5Mw5Qjvll\n"
          ]
        }
      ]
    },
    {
      "cell_type": "code",
      "source": [
        "client.beta.threads.runs.retrieve(\n",
        "  thread_id=thread.id,\n",
        "  run_id='run_HfMNG2dGXRFJhPQ5Mw5Qjvll'\n",
        ").status"
      ],
      "metadata": {
        "colab": {
          "base_uri": "https://localhost:8080/",
          "height": 36
        },
        "id": "-6lC3Ese6PN6",
        "outputId": "4c8a5afb-53a2-4ebf-c50e-0c86a873d565"
      },
      "execution_count": null,
      "outputs": [
        {
          "output_type": "execute_result",
          "data": {
            "text/plain": [
              "'completed'"
            ],
            "application/vnd.google.colaboratory.intrinsic+json": {
              "type": "string"
            }
          },
          "metadata": {},
          "execution_count": 77
        }
      ]
    },
    {
      "cell_type": "code",
      "source": [
        "read_thread()"
      ],
      "metadata": {
        "colab": {
          "base_uri": "https://localhost:8080/"
        },
        "id": "FLoUni3C6hEf",
        "outputId": "dfefbf5a-8502-43d3-cebc-ee547ad15eda"
      },
      "execution_count": null,
      "outputs": [
        {
          "output_type": "stream",
          "name": "stdout",
          "text": [
            "assistant: No, not all products in the \"products\" table appear in an order in the \"orderlines\" table. The result is False, indicating that there are some products in the \"products\" table that do not have orders in the \"orderlines\" table.\n",
            "assistant: The column names in the \"orderlines\" file are: 'id', 'id_order', 'product_id', 'product_quantity', 'sku', 'unit_price', 'date'.\n",
            "\n",
            "The column names in the \"products\" file are: 'sku', 'name', 'desc', 'price', 'promo_price', 'in_stock', 'type'.\n",
            "\n",
            "It appears that the column 'product_id' in the \"orderlines\" file corresponds to the 'sku' column in the \"products\" file. Let me check if all products in the \"products\" table appear in an order in the \"orderlines\" table.\n",
            "assistant: Apologies for the mistake. It seems that I haven't yet read the \"orderlines\" file. Let me do that first and then check the column names in both the \"orderlines\" and \"products\" files.\n",
            "assistant: Apologies for the error again. It seems that I mistakenly used the incorrect column name. Let me verify the column names in the \"orderlines\" table and the \"products\" table and then check if all products in the \"products\" table appear in an order in the \"orderlines\" table.\n",
            "assistant: Apologies for the mistake. It seems that I haven't yet imported the pandas library. Let me import it and read the \"products\" file before checking if all products in the \"products\" table appear in an order in the \"orderlines\" table.\n",
            "assistant: Apologies for the mistake. It seems that I haven't yet read the \"products\" file. Let me do that first and then check if all products in the \"products\" table appear in an order in the \"orderlines\" table.\n",
            "assistant: Apologies for the incorrect code. Let me check if all products in the \"products\" table appear in an order in the \"orderlines\" table.\n",
            "assistant: Apologies for the previous error. I will check if all products in the \"products\" table appear in an order in the \"orderlines\" table.\n",
            "user: Do all products in the products table appear in an order in orderlines?\n",
            "assistant: The number of distinct orders in the \"orders\" table is 226,909, while the number of distinct orders in the \"orderlines\" table is 204,855. Therefore, the number of distinct orders does not match between the two tables.\n",
            "assistant: The column names in the \"orders\" file are: 'order_id', 'created_date', 'total_paid', 'state'.\n",
            "The column names in the \"orderlines\" file are: 'id', 'id_order', 'product_id', 'product_quantity', 'sku', 'unit_price', 'date'.\n",
            "\n",
            "To count the number of distinct orders, we need to identify the corresponding columns that represent the order ID in each file. From the column names, it appears that 'order_id' in the \"orders\" file and 'id_order' in the \"orderlines\" file may correspond to the order ID.\n",
            "\n",
            "Let me read the files again, considering these columns as the order ID columns.\n",
            "assistant: It seems there was an error in reading the files. Let me check the column names in the files.\n",
            "user: Do the number of distinct orders match in the orders and orderlines tables?\n",
            "user: Each file is a csv\n",
            "assistant: To answer your question, we need to analyze the contents of the \"orders\" and \"orderlines\" tables. Could you please provide the file formats of these tables?\n",
            "user: Do the number of distinct orders match in the orders and orderlines tables?\n",
            "user: Please help with the analysis of these files for my project.\n"
          ]
        }
      ]
    },
    {
      "cell_type": "code",
      "source": [
        "update_conversation(\"'product_id' is a useless column. Both products and orderlines tables contain a 'sku' column. Please check again if all products appear in orderlines.\")"
      ],
      "metadata": {
        "colab": {
          "base_uri": "https://localhost:8080/"
        },
        "id": "jwWBcJmb69Ac",
        "outputId": "7eec68f3-cf59-4626-a281-9f09df556497"
      },
      "execution_count": null,
      "outputs": [
        {
          "output_type": "stream",
          "name": "stdout",
          "text": [
            "assistant: Apologies for the previous mistake. After considering the correct column names, it appears that not all products in the \"products\" table appear in an order in the \"orderlines\" table. The result is False, indicating that there are some products in the \"products\" table that do not have corresponding entries in the \"orderlines\" table.\n",
            "user: 'product_id' is a useless column. Both products and orderlines tables contain a 'sku' column. Please check again if all products appear in orderlines.\n",
            "assistant: No, not all products in the \"products\" table appear in an order in the \"orderlines\" table. The result is False, indicating that there are some products in the \"products\" table that do not have orders in the \"orderlines\" table.\n",
            "assistant: The column names in the \"orderlines\" file are: 'id', 'id_order', 'product_id', 'product_quantity', 'sku', 'unit_price', 'date'.\n",
            "\n",
            "The column names in the \"products\" file are: 'sku', 'name', 'desc', 'price', 'promo_price', 'in_stock', 'type'.\n",
            "\n",
            "It appears that the column 'product_id' in the \"orderlines\" file corresponds to the 'sku' column in the \"products\" file. Let me check if all products in the \"products\" table appear in an order in the \"orderlines\" table.\n",
            "assistant: Apologies for the mistake. It seems that I haven't yet read the \"orderlines\" file. Let me do that first and then check the column names in both the \"orderlines\" and \"products\" files.\n",
            "assistant: Apologies for the error again. It seems that I mistakenly used the incorrect column name. Let me verify the column names in the \"orderlines\" table and the \"products\" table and then check if all products in the \"products\" table appear in an order in the \"orderlines\" table.\n",
            "assistant: Apologies for the mistake. It seems that I haven't yet imported the pandas library. Let me import it and read the \"products\" file before checking if all products in the \"products\" table appear in an order in the \"orderlines\" table.\n",
            "assistant: Apologies for the mistake. It seems that I haven't yet read the \"products\" file. Let me do that first and then check if all products in the \"products\" table appear in an order in the \"orderlines\" table.\n",
            "assistant: Apologies for the incorrect code. Let me check if all products in the \"products\" table appear in an order in the \"orderlines\" table.\n",
            "assistant: Apologies for the previous error. I will check if all products in the \"products\" table appear in an order in the \"orderlines\" table.\n",
            "user: Do all products in the products table appear in an order in orderlines?\n",
            "assistant: The number of distinct orders in the \"orders\" table is 226,909, while the number of distinct orders in the \"orderlines\" table is 204,855. Therefore, the number of distinct orders does not match between the two tables.\n",
            "assistant: The column names in the \"orders\" file are: 'order_id', 'created_date', 'total_paid', 'state'.\n",
            "The column names in the \"orderlines\" file are: 'id', 'id_order', 'product_id', 'product_quantity', 'sku', 'unit_price', 'date'.\n",
            "\n",
            "To count the number of distinct orders, we need to identify the corresponding columns that represent the order ID in each file. From the column names, it appears that 'order_id' in the \"orders\" file and 'id_order' in the \"orderlines\" file may correspond to the order ID.\n",
            "\n",
            "Let me read the files again, considering these columns as the order ID columns.\n",
            "assistant: It seems there was an error in reading the files. Let me check the column names in the files.\n",
            "user: Do the number of distinct orders match in the orders and orderlines tables?\n",
            "user: Each file is a csv\n",
            "assistant: To answer your question, we need to analyze the contents of the \"orders\" and \"orderlines\" tables. Could you please provide the file formats of these tables?\n",
            "user: Do the number of distinct orders match in the orders and orderlines tables?\n",
            "user: Please help with the analysis of these files for my project.\n"
          ]
        }
      ]
    },
    {
      "cell_type": "markdown",
      "source": [
        "### Generated files"
      ],
      "metadata": {
        "id": "J231V-FGFdk5"
      }
    },
    {
      "cell_type": "markdown",
      "source": [
        "Assistants are capable of generating images and data files (e.g. CSV files) which can be incorporated into our work. To access such a file, we will need to locate a `file_id` in the message our `Assistant` sends back."
      ],
      "metadata": {
        "id": "-A0eVErgFhFI"
      }
    },
    {
      "cell_type": "code",
      "source": [
        "update_conversation(\"Create a graph of the daily revenue using the 'orders' table. Consider only the 'Completed' state and drop any rows with problems in the 'total_paid' column.\")"
      ],
      "metadata": {
        "id": "KHAzhvBGGqjv",
        "colab": {
          "base_uri": "https://localhost:8080/"
        },
        "outputId": "f34afa73-9d34-4c1c-f6b7-f0b1016ddc46"
      },
      "execution_count": null,
      "outputs": [
        {
          "output_type": "stream",
          "name": "stdout",
          "text": [
            "Automated status check timeout. To check manually, use run_id='run_UHwAAS1j3qhqhb3gikDbZN0h'\n"
          ]
        }
      ]
    },
    {
      "cell_type": "code",
      "source": [
        "client.beta.threads.runs.retrieve(\n",
        "  thread_id=thread.id,\n",
        "  run_id='run_UHwAAS1j3qhqhb3gikDbZN0h'\n",
        ").status"
      ],
      "metadata": {
        "colab": {
          "base_uri": "https://localhost:8080/",
          "height": 36
        },
        "outputId": "c3cb2aaa-42d6-48f0-da5a-2d7ba73cde33",
        "id": "X9TxCHevIMEw"
      },
      "execution_count": null,
      "outputs": [
        {
          "output_type": "execute_result",
          "data": {
            "text/plain": [
              "'completed'"
            ],
            "application/vnd.google.colaboratory.intrinsic+json": {
              "type": "string"
            }
          },
          "metadata": {},
          "execution_count": 82
        }
      ]
    },
    {
      "cell_type": "code",
      "source": [
        "read_thread()"
      ],
      "metadata": {
        "colab": {
          "base_uri": "https://localhost:8080/",
          "height": 273
        },
        "id": "xTyPAq31MwQb",
        "outputId": "16e8dac2-472b-4478-d4bb-591e336362e9"
      },
      "execution_count": null,
      "outputs": [
        {
          "output_type": "error",
          "ename": "AttributeError",
          "evalue": "ignored",
          "traceback": [
            "\u001b[0;31m---------------------------------------------------------------------------\u001b[0m",
            "\u001b[0;31mAttributeError\u001b[0m                            Traceback (most recent call last)",
            "\u001b[0;32m<ipython-input-106-5e0cfbf31300>\u001b[0m in \u001b[0;36m<cell line: 1>\u001b[0;34m()\u001b[0m\n\u001b[0;32m----> 1\u001b[0;31m \u001b[0mread_thread\u001b[0m\u001b[0;34m(\u001b[0m\u001b[0;34m)\u001b[0m\u001b[0;34m\u001b[0m\u001b[0;34m\u001b[0m\u001b[0m\n\u001b[0m",
            "\u001b[0;32m<ipython-input-40-6cbcdbe80c28>\u001b[0m in \u001b[0;36mread_thread\u001b[0;34m()\u001b[0m\n\u001b[1;32m      2\u001b[0m     \u001b[0mthread_messages\u001b[0m \u001b[0;34m=\u001b[0m \u001b[0mclient\u001b[0m\u001b[0;34m.\u001b[0m\u001b[0mbeta\u001b[0m\u001b[0;34m.\u001b[0m\u001b[0mthreads\u001b[0m\u001b[0;34m.\u001b[0m\u001b[0mmessages\u001b[0m\u001b[0;34m.\u001b[0m\u001b[0mlist\u001b[0m\u001b[0;34m(\u001b[0m\u001b[0mthread\u001b[0m\u001b[0;34m.\u001b[0m\u001b[0mid\u001b[0m\u001b[0;34m)\u001b[0m\u001b[0;34m\u001b[0m\u001b[0;34m\u001b[0m\u001b[0m\n\u001b[1;32m      3\u001b[0m     \u001b[0;32mfor\u001b[0m \u001b[0mfiber\u001b[0m \u001b[0;32min\u001b[0m \u001b[0mthread_messages\u001b[0m\u001b[0;34m:\u001b[0m\u001b[0;34m\u001b[0m\u001b[0;34m\u001b[0m\u001b[0m\n\u001b[0;32m----> 4\u001b[0;31m         \u001b[0mprint\u001b[0m\u001b[0;34m(\u001b[0m\u001b[0;34mf\"{fiber.role}: {fiber.content[0].text.value}\"\u001b[0m\u001b[0;34m)\u001b[0m\u001b[0;34m\u001b[0m\u001b[0;34m\u001b[0m\u001b[0m\n\u001b[0m",
            "\u001b[0;31mAttributeError\u001b[0m: 'MessageContentImageFile' object has no attribute 'text'"
          ]
        }
      ]
    },
    {
      "cell_type": "markdown",
      "source": [
        "It seems we will need to modify the `read_thread` function to accomodate messages with a file output."
      ],
      "metadata": {
        "id": "diUmpVd8MzJN"
      }
    },
    {
      "cell_type": "code",
      "source": [
        "def read_thread():\n",
        "    thread_messages = client.beta.threads.messages.list(thread.id)\n",
        "    for fiber in thread_messages:\n",
        "        try:\n",
        "            print(f\"{fiber.role}: {fiber.content[0].text.value}\")\n",
        "        except:\n",
        "            print(f\"{fiber.role}: {fiber.content[-1].text.value}'\")\n",
        "            if len(fiber.content[-1].text.annotations) > 0:\n",
        "                print(f\"    annotations: {fiber.content[-1].text.annotations}\")\n",
        "            for output in fiber.content[:-1]:\n",
        "                print(f\"    file_id='{output.image_file.file_id}'\")"
      ],
      "metadata": {
        "id": "WixCwJmwIR1D"
      },
      "execution_count": null,
      "outputs": []
    },
    {
      "cell_type": "code",
      "source": [
        "read_thread()"
      ],
      "metadata": {
        "colab": {
          "base_uri": "https://localhost:8080/"
        },
        "id": "j86TOtLcNOnK",
        "outputId": "eb00afa8-ddaf-44eb-a6b3-f48c59297b29"
      },
      "execution_count": null,
      "outputs": [
        {
          "output_type": "stream",
          "name": "stdout",
          "text": [
            "assistant: Here is the graph of the daily revenue using the 'orders' table. I filtered the orders with the 'Completed' state and dropped any rows with problems in the 'total_paid' column. The graph shows the daily revenue over time.'\n",
            "    file_id='file-J34MB1LZKQNi3cOuWwFHVOHW'\n",
            "assistant: Apologies, it seems that I haven't imported the pandas library. Let me import it and read the \"orders\" file again before creating the graph.\n",
            "assistant: Apologies, it seems that the variable `orders_df` is not defined in this execution context. Let me read the \"orders\" file again and then create the graph.\n",
            "assistant: Apologies, it seems that the code execution was reset before I could generate the graph. Let me try again.\n",
            "user: Create a graph of the daily revenue using the 'orders' table. Consider only the 'Completed' state and drop any rows with problems in the 'total_paid' column.\n",
            "assistant: Apologies for the previous mistake. After considering the correct column names, it appears that not all products in the \"products\" table appear in an order in the \"orderlines\" table. The result is False, indicating that there are some products in the \"products\" table that do not have corresponding entries in the \"orderlines\" table.\n",
            "user: 'product_id' is a useless column. Both products and orderlines tables contain a 'sku' column. Please check again if all products appear in orderlines.\n",
            "assistant: No, not all products in the \"products\" table appear in an order in the \"orderlines\" table. The result is False, indicating that there are some products in the \"products\" table that do not have orders in the \"orderlines\" table.\n",
            "assistant: The column names in the \"orderlines\" file are: 'id', 'id_order', 'product_id', 'product_quantity', 'sku', 'unit_price', 'date'.\n",
            "\n",
            "The column names in the \"products\" file are: 'sku', 'name', 'desc', 'price', 'promo_price', 'in_stock', 'type'.\n",
            "\n",
            "It appears that the column 'product_id' in the \"orderlines\" file corresponds to the 'sku' column in the \"products\" file. Let me check if all products in the \"products\" table appear in an order in the \"orderlines\" table.\n",
            "assistant: Apologies for the mistake. It seems that I haven't yet read the \"orderlines\" file. Let me do that first and then check the column names in both the \"orderlines\" and \"products\" files.\n",
            "assistant: Apologies for the error again. It seems that I mistakenly used the incorrect column name. Let me verify the column names in the \"orderlines\" table and the \"products\" table and then check if all products in the \"products\" table appear in an order in the \"orderlines\" table.\n",
            "assistant: Apologies for the mistake. It seems that I haven't yet imported the pandas library. Let me import it and read the \"products\" file before checking if all products in the \"products\" table appear in an order in the \"orderlines\" table.\n",
            "assistant: Apologies for the mistake. It seems that I haven't yet read the \"products\" file. Let me do that first and then check if all products in the \"products\" table appear in an order in the \"orderlines\" table.\n",
            "assistant: Apologies for the incorrect code. Let me check if all products in the \"products\" table appear in an order in the \"orderlines\" table.\n",
            "assistant: Apologies for the previous error. I will check if all products in the \"products\" table appear in an order in the \"orderlines\" table.\n",
            "user: Do all products in the products table appear in an order in orderlines?\n",
            "assistant: The number of distinct orders in the \"orders\" table is 226,909, while the number of distinct orders in the \"orderlines\" table is 204,855. Therefore, the number of distinct orders does not match between the two tables.\n",
            "assistant: The column names in the \"orders\" file are: 'order_id', 'created_date', 'total_paid', 'state'.\n",
            "The column names in the \"orderlines\" file are: 'id', 'id_order', 'product_id', 'product_quantity', 'sku', 'unit_price', 'date'.\n",
            "\n",
            "To count the number of distinct orders, we need to identify the corresponding columns that represent the order ID in each file. From the column names, it appears that 'order_id' in the \"orders\" file and 'id_order' in the \"orderlines\" file may correspond to the order ID.\n",
            "\n",
            "Let me read the files again, considering these columns as the order ID columns.\n",
            "assistant: It seems there was an error in reading the files. Let me check the column names in the files.\n",
            "user: Do the number of distinct orders match in the orders and orderlines tables?\n",
            "user: Each file is a csv\n",
            "assistant: To answer your question, we need to analyze the contents of the \"orders\" and \"orderlines\" tables. Could you please provide the file formats of these tables?\n",
            "user: Do the number of distinct orders match in the orders and orderlines tables?\n",
            "user: Please help with the analysis of these files for my project.\n"
          ]
        }
      ]
    },
    {
      "cell_type": "markdown",
      "source": [
        "The produced image requires decoding to be displayed within our notebook."
      ],
      "metadata": {
        "id": "5ypXhHSoTLnd"
      }
    },
    {
      "cell_type": "code",
      "source": [
        "from google.colab.patches import cv2_imshow\n",
        "import numpy as np\n",
        "import cv2\n",
        "image_data = client.files.content('file-J34MB1LZKQNi3cOuWwFHVOHW')\n",
        "image_data_bytes = image_data.read()\n",
        "image_array = np.frombuffer(image_data_bytes, dtype=np.uint8)\n",
        "image = cv2.imdecode(image_array, cv2.IMREAD_COLOR)\n",
        "cv2_imshow(image)"
      ],
      "metadata": {
        "colab": {
          "base_uri": "https://localhost:8080/",
          "height": 941
        },
        "id": "S4oc2ucqQnjE",
        "outputId": "d972967c-4da2-45dc-e312-777c00d0ee47"
      },
      "execution_count": null,
      "outputs": [
        {
          "output_type": "display_data",
          "data": {
            "text/plain": [
              "<PIL.Image.Image image mode=RGB size=2081x1190>"
            ],
            "image/png": "[encoded data removed]"
          },
          "metadata": {}
        }
      ]
    },
    {
      "cell_type": "markdown",
      "source": [
        "The binary file can also be written directly as a `.png`, which can then be reviewed by double-clicking the file in the working directory or downloaded to the local machine."
      ],
      "metadata": {
        "id": "x8tZbAOgO-KF"
      }
    },
    {
      "cell_type": "code",
      "source": [
        "with open(\"daily_revenue.png\", \"wb\") as file:\n",
        "    file.write(image_data_bytes)\n",
        "files.download('daily_revenue.png')"
      ],
      "metadata": {
        "colab": {
          "base_uri": "https://localhost:8080/",
          "height": 17
        },
        "id": "Yke42bxTUIzK",
        "outputId": "a53f0430-fe37-4caf-aa10-e0d772e9f661"
      },
      "execution_count": null,
      "outputs": [
        {
          "output_type": "display_data",
          "data": {
            "text/plain": [
              "<IPython.core.display.Javascript object>"
            ],
            "application/javascript": [
              "\n",
              "    async function download(id, filename, size) {\n",
              "      if (!google.colab.kernel.accessAllowed) {\n",
              "        return;\n",
              "      }\n",
              "      const div = document.createElement('div');\n",
              "      const label = document.createElement('label');\n",
              "      label.textContent = `Downloading \"${filename}\": `;\n",
              "      div.appendChild(label);\n",
              "      const progress = document.createElement('progress');\n",
              "      progress.max = size;\n",
              "      div.appendChild(progress);\n",
              "      document.body.appendChild(div);\n",
              "\n",
              "      const buffers = [];\n",
              "      let downloaded = 0;\n",
              "\n",
              "      const channel = await google.colab.kernel.comms.open(id);\n",
              "      // Send a message to notify the kernel that we're ready.\n",
              "      channel.send({})\n",
              "\n",
              "      for await (const message of channel.messages) {\n",
              "        // Send a message to notify the kernel that we're ready.\n",
              "        channel.send({})\n",
              "        if (message.buffers) {\n",
              "          for (const buffer of message.buffers) {\n",
              "            buffers.push(buffer);\n",
              "            downloaded += buffer.byteLength;\n",
              "            progress.value = downloaded;\n",
              "          }\n",
              "        }\n",
              "      }\n",
              "      const blob = new Blob(buffers, {type: 'application/binary'});\n",
              "      const a = document.createElement('a');\n",
              "      a.href = window.URL.createObjectURL(blob);\n",
              "      a.download = filename;\n",
              "      div.appendChild(a);\n",
              "      a.click();\n",
              "      div.remove();\n",
              "    }\n",
              "  "
            ]
          },
          "metadata": {}
        },
        {
          "output_type": "display_data",
          "data": {
            "text/plain": [
              "<IPython.core.display.Javascript object>"
            ],
            "application/javascript": [
              "download(\"download_7a992214-b7a7-43ba-a59b-3c35e8642720\", \"daily_revenue.png\", 141635)"
            ]
          },
          "metadata": {}
        }
      ]
    },
    {
      "cell_type": "markdown",
      "source": [
        "### Continuing the conversation"
      ],
      "metadata": {
        "id": "9sBPZSM08etd"
      }
    },
    {
      "cell_type": "markdown",
      "source": [
        "Since Assistants and Threads are persistant, we can save their data for later use. In this way, the context of a conversation can last over serveral sessions."
      ],
      "metadata": {
        "id": "IMdyIZGm8jQF"
      }
    },
    {
      "cell_type": "code",
      "source": [
        "my_conversation = {\n",
        "    \"assistant\": assistant,\n",
        "    \"thread\": thread\n",
        "}\n",
        "with open('my_conversation.pkl', 'wb') as f:\n",
        "    pickle.dump(my_conversation, f)\n",
        "files.download('my_conversation.pkl')"
      ],
      "metadata": {
        "colab": {
          "base_uri": "https://localhost:8080/",
          "height": 17
        },
        "id": "kRi83XMH9Zk8",
        "outputId": "adc8104a-ce2a-41c2-9497-b6db76022228"
      },
      "execution_count": null,
      "outputs": [
        {
          "output_type": "display_data",
          "data": {
            "text/plain": [
              "<IPython.core.display.Javascript object>"
            ],
            "application/javascript": [
              "\n",
              "    async function download(id, filename, size) {\n",
              "      if (!google.colab.kernel.accessAllowed) {\n",
              "        return;\n",
              "      }\n",
              "      const div = document.createElement('div');\n",
              "      const label = document.createElement('label');\n",
              "      label.textContent = `Downloading \"${filename}\": `;\n",
              "      div.appendChild(label);\n",
              "      const progress = document.createElement('progress');\n",
              "      progress.max = size;\n",
              "      div.appendChild(progress);\n",
              "      document.body.appendChild(div);\n",
              "\n",
              "      const buffers = [];\n",
              "      let downloaded = 0;\n",
              "\n",
              "      const channel = await google.colab.kernel.comms.open(id);\n",
              "      // Send a message to notify the kernel that we're ready.\n",
              "      channel.send({})\n",
              "\n",
              "      for await (const message of channel.messages) {\n",
              "        // Send a message to notify the kernel that we're ready.\n",
              "        channel.send({})\n",
              "        if (message.buffers) {\n",
              "          for (const buffer of message.buffers) {\n",
              "            buffers.push(buffer);\n",
              "            downloaded += buffer.byteLength;\n",
              "            progress.value = downloaded;\n",
              "          }\n",
              "        }\n",
              "      }\n",
              "      const blob = new Blob(buffers, {type: 'application/binary'});\n",
              "      const a = document.createElement('a');\n",
              "      a.href = window.URL.createObjectURL(blob);\n",
              "      a.download = filename;\n",
              "      div.appendChild(a);\n",
              "      a.click();\n",
              "      div.remove();\n",
              "    }\n",
              "  "
            ]
          },
          "metadata": {}
        },
        {
          "output_type": "display_data",
          "data": {
            "text/plain": [
              "<IPython.core.display.Javascript object>"
            ],
            "application/javascript": [
              "download(\"download_a9f9797e-dcfb-48cb-989a-4d805302b9f9\", \"my_conversation.pkl\", 897)"
            ]
          },
          "metadata": {}
        }
      ]
    }
  ]
}